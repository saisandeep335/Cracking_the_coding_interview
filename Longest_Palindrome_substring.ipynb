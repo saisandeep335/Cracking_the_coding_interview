{
 "cells": [
  {
   "cell_type": "code",
   "execution_count": 1,
   "metadata": {
    "collapsed": true
   },
   "outputs": [],
   "source": [
    "def long_sub_palim(string):\n",
    "    string_list = [x for x in string]\n",
    "    #print string_list\n",
    "    \n",
    "    palindromes = []\n",
    "    \n",
    "    #case aa\n",
    "    case_aa_ind = []\n",
    "    prev = string_list[0]\n",
    "    for i in range(1, len(string_list)):\n",
    "        curr = string_list[i]\n",
    "        if curr == prev:\n",
    "            case_aa_ind.append(i)\n",
    "        prev = curr\n",
    "    #print case_aa_ind\n",
    "    \n",
    "    for i in case_aa_ind:\n",
    "        poss_len = min(i,len(string_list)-i)\n",
    "        \n",
    "        for j in range(poss_len):\n",
    "            #print poss_len\n",
    "            #print i, j\n",
    "            if (i+j == len(string_list)-1) and (string_list[i-j-1] == string_list[i+j]):\n",
    "                #print i+j\n",
    "                #print string_list[i-j-1]\n",
    "                #print string_list[i+j]\n",
    "                palindrome = ''.join(string_list[(i-j-1):])\n",
    "                palindromes.append(palindrome)\n",
    "            \n",
    "            if string_list[i-j-1] != string_list[i+j]:\n",
    "                palindrome = ''.join(string_list[(i-j):(i+j)])\n",
    "                palindromes.append(palindrome)\n",
    "                break\n",
    "            \n",
    "            \n",
    "    \n",
    "    #case aba\n",
    "    case_aba_ind = []\n",
    "    prev = string_list[0]\n",
    "    \n",
    "    for i in range(1, len(string_list)-1):\n",
    "        curr = string_list[i+1]\n",
    "        if curr == prev:\n",
    "            case_aba_ind.append(i)\n",
    "        prev = string_list[i]\n",
    "    \n",
    "    #print case_aba_ind\n",
    "    \n",
    "    for i in case_aba_ind:\n",
    "        poss_len = min(i,(len(string_list)-i-1))\n",
    "        for j in range(poss_len):\n",
    "            #print poss_len\n",
    "            #print i, j\n",
    "            if (i+j == len(string_list)-2) and (string_list[i-j-1] == string_list[i+j+1]):\n",
    "                #print i+j\n",
    "                #print string_list[i-j-1]\n",
    "                #print string_list[i+j]\n",
    "                palindrome = ''.join(string_list[(i-j-1):])\n",
    "                palindromes.append(palindrome)\n",
    "            \n",
    "            if string_list[i-j-1] != string_list[i+j+1]:\n",
    "                palindrome = ''.join(string_list[(i-j):(i+j+1)])\n",
    "                palindromes.append(palindrome)\n",
    "                break\n",
    "    \n",
    "    if len(palindromes) == 0:\n",
    "        return None\n",
    "    longest = palindromes[0]\n",
    "    for i in palindromes:\n",
    "        if len(i)>len(longest):\n",
    "            longest = i\n",
    "    \n",
    "    return longest"
   ]
  },
  {
   "cell_type": "code",
   "execution_count": 2,
   "metadata": {},
   "outputs": [
    {
     "name": "stdout",
     "output_type": "stream",
     "text": [
      "llsacattacasll\n",
      "abcjejejejcba\n",
      "abccba\n",
      "abctcba\n",
      "abccba\n",
      "abctcba\n"
     ]
    }
   ],
   "source": [
    "print long_sub_palim('asdllsacattacasllasadsda')\n",
    "print long_sub_palim('qweqwabcjejejejcbaasdas')\n",
    "#print len('asdsabctcba')\n",
    "print long_sub_palim('asdsabccba')\n",
    "print long_sub_palim('asdsabctcba')\n",
    "print long_sub_palim('abccba')\n",
    "print long_sub_palim('abctcba')"
   ]
  },
  {
   "cell_type": "code",
   "execution_count": null,
   "metadata": {
    "collapsed": true
   },
   "outputs": [],
   "source": []
  }
 ],
 "metadata": {
  "kernelspec": {
   "display_name": "Python 2",
   "language": "python",
   "name": "python2"
  },
  "language_info": {
   "codemirror_mode": {
    "name": "ipython",
    "version": 2
   },
   "file_extension": ".py",
   "mimetype": "text/x-python",
   "name": "python",
   "nbconvert_exporter": "python",
   "pygments_lexer": "ipython2",
   "version": "2.7.14"
  }
 },
 "nbformat": 4,
 "nbformat_minor": 2
}
