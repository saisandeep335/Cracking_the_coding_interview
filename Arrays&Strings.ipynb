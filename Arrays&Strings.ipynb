{
 "cells": [
  {
   "cell_type": "markdown",
   "metadata": {},
   "source": [
    "reverse letters string \n",
    "<br>\n",
    "reverse words string \n",
    "<br>\n",
    "remove duplicates in array/string \n",
    "<br>\n",
    "list of lists - flatten the list  \n",
    "<br>\n",
    "Python Object oriented - class inheritance, constructor call, child parent? multiple inheritance which values\n",
    "# method resolution order in python\n",
    "indexs - : -1 to reverse\n",
    "<br>\n",
    "list comprehensions"
   ]
  },
  {
   "cell_type": "markdown",
   "metadata": {},
   "source": [
    "### 1.1 Is Unique"
   ]
  },
  {
   "cell_type": "code",
   "execution_count": 13,
   "metadata": {
    "collapsed": true
   },
   "outputs": [],
   "source": [
    "def is_unique(word):\n",
    "    word = sorted(word)\n",
    "    for i in range(len(word)-1):\n",
    "        if word[i] == word[i+1]:\n",
    "            return False\n",
    "    return True"
   ]
  },
  {
   "cell_type": "code",
   "execution_count": 29,
   "metadata": {},
   "outputs": [
    {
     "name": "stdout",
     "output_type": "stream",
     "text": [
      "False\n",
      "True\n"
     ]
    }
   ],
   "source": [
    "print is_unique('saisandeep')\n",
    "print is_unique('ramsi')"
   ]
  },
  {
   "cell_type": "code",
   "execution_count": 22,
   "metadata": {
    "collapsed": true
   },
   "outputs": [],
   "source": [
    "def is_unique2(word):\n",
    "    char_count = {}\n",
    "    for letter in word:\n",
    "        if letter in char_count.keys():\n",
    "            return False\n",
    "        char_count[letter] = 1\n",
    "    return True\n",
    "        "
   ]
  },
  {
   "cell_type": "code",
   "execution_count": 30,
   "metadata": {},
   "outputs": [
    {
     "name": "stdout",
     "output_type": "stream",
     "text": [
      "False\n",
      "True\n"
     ]
    }
   ],
   "source": [
    "print is_unique2('saisandeep')\n",
    "print is_unique2('ramsi')"
   ]
  },
  {
   "cell_type": "markdown",
   "metadata": {},
   "source": [
    "### 1.2 Is Permutation"
   ]
  },
  {
   "cell_type": "code",
   "execution_count": 35,
   "metadata": {
    "collapsed": true
   },
   "outputs": [],
   "source": [
    "def is_permutation(a,b):\n",
    "    a_dict = {}\n",
    "    for letter in a:\n",
    "        if letter in a_dict.keys():\n",
    "            a_dict[letter] += 1\n",
    "        a_dict[letter] = 1\n",
    "    for letter in b:\n",
    "        if letter in a_dict.keys():\n",
    "            a_dict[letter] -= 1\n",
    "        else:\n",
    "            return False\n",
    "    for i in a_dict.keys():\n",
    "        if a_dict[i] != 0:\n",
    "            return False\n",
    "    return True"
   ]
  },
  {
   "cell_type": "code",
   "execution_count": 38,
   "metadata": {},
   "outputs": [
    {
     "name": "stdout",
     "output_type": "stream",
     "text": [
      "True\n",
      "False\n"
     ]
    }
   ],
   "source": [
    "print is_permutation('ate','eat')\n",
    "print is_permutation('saisand','ssandde')"
   ]
  },
  {
   "cell_type": "markdown",
   "metadata": {},
   "source": [
    "### 1.3 URLify\n",
    "\n",
    "replace spaces with "
   ]
  },
  {
   "cell_type": "code",
   "execution_count": 3,
   "metadata": {
    "collapsed": true
   },
   "outputs": [],
   "source": [
    "def urlify(string, n):\n",
    "    str_list = [str(x) for x in string]\n",
    "    for i in range(n):\n",
    "        if str_list[i] == ' ':\n",
    "            str_list[i] = '%20'\n",
    "    string = ''.join(str_list)\n",
    "    return string\n",
    "        "
   ]
  },
  {
   "cell_type": "code",
   "execution_count": 4,
   "metadata": {},
   "outputs": [
    {
     "data": {
      "text/plain": [
       "'asbc%20asm%20as%20fs'"
      ]
     },
     "execution_count": 4,
     "metadata": {},
     "output_type": "execute_result"
    }
   ],
   "source": [
    "urlify('asbc asm as fs',14)"
   ]
  },
  {
   "cell_type": "markdown",
   "metadata": {},
   "source": [
    "### 1.4 Palindrome Permutation"
   ]
  },
  {
   "cell_type": "code",
   "execution_count": 16,
   "metadata": {
    "collapsed": true
   },
   "outputs": [],
   "source": [
    "def palin_perm(string):\n",
    "    char_count = {}\n",
    "    string = string.lower()\n",
    "    for char in string:\n",
    "        if char in char_count.keys():\n",
    "            char_count[char] += 1\n",
    "        else:\n",
    "            char_count[char] = 1\n",
    "    unique_count = 0\n",
    "    for key in char_count.keys():\n",
    "        if key!=' ' and char_count[key]%2 != 0:\n",
    "            unique_count += 1\n",
    "        if unique_count > 1:\n",
    "            return False\n",
    "    return True"
   ]
  },
  {
   "cell_type": "code",
   "execution_count": 21,
   "metadata": {},
   "outputs": [
    {
     "name": "stdout",
     "output_type": "stream",
     "text": [
      "65\n",
      "97\n"
     ]
    }
   ],
   "source": [
    "print ord('A')\n",
    "print ord('a')"
   ]
  },
  {
   "cell_type": "markdown",
   "metadata": {},
   "source": [
    "ASCII value of 'A' is 65 and 'a' is 97 if needed to convert uppercase letters into lower case programatically"
   ]
  },
  {
   "cell_type": "code",
   "execution_count": 22,
   "metadata": {},
   "outputs": [
    {
     "data": {
      "text/plain": [
       "True"
      ]
     },
     "execution_count": 22,
     "metadata": {},
     "output_type": "execute_result"
    }
   ],
   "source": [
    "palin_perm('tacT cao')"
   ]
  },
  {
   "cell_type": "markdown",
   "metadata": {
    "collapsed": true
   },
   "source": [
    "### 1.5 One (or zero) edit away "
   ]
  },
  {
   "cell_type": "code",
   "execution_count": 28,
   "metadata": {
    "collapsed": true
   },
   "outputs": [],
   "source": [
    "def one_away(a,b):\n",
    "    if a==b:\n",
    "        return True\n",
    "    \n",
    "    a_list = [str(x) for x in a]\n",
    "    b_list = [str(x) for x in b]\n",
    "    \n",
    "    if abs(len(a_list) - len(b_list)) == 1:\n",
    "        if (a in b) or (b in a):\n",
    "            return True\n",
    "        else:\n",
    "            return False\n",
    "    \n",
    "    if len(a_list) == len(b_list):\n",
    "        count = 0\n",
    "        for i in range(len(a_list)):\n",
    "            if a_list[i] != b_list[i]:\n",
    "                count += 1\n",
    "        if count > 1:\n",
    "            return False\n",
    "        else:\n",
    "            return True\n"
   ]
  },
  {
   "cell_type": "code",
   "execution_count": 29,
   "metadata": {},
   "outputs": [
    {
     "name": "stdout",
     "output_type": "stream",
     "text": [
      "True\n",
      "True\n",
      "False\n",
      "True\n"
     ]
    }
   ],
   "source": [
    "print one_away('pale','bale')\n",
    "print one_away('pale','ale')\n",
    "print one_away('pale','bake')\n",
    "print one_away('pales','pale')"
   ]
  },
  {
   "cell_type": "markdown",
   "metadata": {},
   "source": [
    "### 1.6 String compression"
   ]
  },
  {
   "cell_type": "code",
   "execution_count": 48,
   "metadata": {
    "collapsed": true
   },
   "outputs": [],
   "source": [
    "def str_comp(a):\n",
    "    output = []\n",
    "    input_str = [x for x in a]\n",
    "    count = 1\n",
    "    for i in range(len(input_str)-1):\n",
    "        if input_str[i] == input_str[i+1]:\n",
    "            count += 1\n",
    "        else:\n",
    "            output.append(input_str[i])\n",
    "            output.append(str(count))\n",
    "            count = 1\n",
    "            \n",
    "    output.append(input_str[i+1])\n",
    "    output.append(str(count))\n",
    "    \n",
    "    output = ''.join(output)\n",
    "    return output"
   ]
  },
  {
   "cell_type": "code",
   "execution_count": 51,
   "metadata": {},
   "outputs": [
    {
     "name": "stdout",
     "output_type": "stream",
     "text": [
      "s1a1i1s1a1n1d1e2p1\n",
      "a1b2a1b1a4d4c2e1w3e4\n"
     ]
    }
   ],
   "source": [
    "print str_comp('saisandeep')\n",
    "print str_comp('abbabaaaaddddccewwweeee')"
   ]
  },
  {
   "cell_type": "markdown",
   "metadata": {},
   "source": [
    "### 1.3 Rotate matrix"
   ]
  },
  {
   "cell_type": "code",
   "execution_count": 3,
   "metadata": {},
   "outputs": [
    {
     "name": "stdout",
     "output_type": "stream",
     "text": [
      "[[ 0.78045899  0.04449698  0.54068366  0.79650441]\n",
      " [ 0.83474973  0.99623376  0.3772206   0.40619594]\n",
      " [ 0.78610333  0.00509598  0.74043499  0.34687236]\n",
      " [ 0.89138377  0.23239458  0.72301274  0.23744352]]\n",
      "[[ 0.89138377  0.78610333  0.83474973  0.78045899]\n",
      " [ 0.23239458  0.00509598  0.99623376  0.04449698]\n",
      " [ 0.72301274  0.3772206   0.74043499  0.54068366]\n",
      " [ 0.23744352  0.34687236  0.40619594  0.79650441]]\n"
     ]
    }
   ],
   "source": [
    "def rot_mat(matrix):\n",
    "    n = len(matrix)\n",
    "    for row in range(n//2):\n",
    "        for column in range(row, n-row-1):\n",
    "            temp = matrix[column][n-row-1]\n",
    "            matrix[column][n-row-1] = matrix[row][column]\n",
    "            matrix[row][column] = matrix[n-row-column-1][row]\n",
    "            matrix[n-row-column-1][row] = matrix[n-row-1][n-row-column-1]\n",
    "            matrix[n-row-1][n-row-column-1] = temp\n",
    "    return matrix\n",
    "\n",
    "import numpy as np\n",
    "\n",
    "matrix = np.random.rand(4,4)\n",
    "\n",
    "print matrix\n",
    "print rot_mat(matrix)"
   ]
  },
  {
   "cell_type": "markdown",
   "metadata": {},
   "source": [
    "### 1.8 Zero Matrix"
   ]
  },
  {
   "cell_type": "code",
   "execution_count": 8,
   "metadata": {},
   "outputs": [
    {
     "data": {
      "text/plain": [
       "[[1, 0, 3, 4], [5, 0, 7, 8], [0, 0, 0, 0], [13, 0, 15, 16]]"
      ]
     },
     "execution_count": 8,
     "metadata": {},
     "output_type": "execute_result"
    }
   ],
   "source": [
    "def zero_mat(matrix):\n",
    "    m = len(matrix[0])\n",
    "    n = len(matrix)\n",
    "    rows = set()\n",
    "    columns = set()\n",
    "    \n",
    "    for i in range(m):\n",
    "        for j in range(n):\n",
    "            if matrix[i][j] == 0:\n",
    "                rows.add(i)\n",
    "                columns.add(j)\n",
    "\n",
    "    for row in rows:\n",
    "        for col in range(n):\n",
    "            matrix[row][col] = 0\n",
    "    \n",
    "    for column in columns:\n",
    "        for row in range(m):\n",
    "            matrix[row][column] = 0\n",
    "    \n",
    "    return matrix\n",
    "\n",
    "m = [[1 ,2 ,3 ,4 ],\n",
    "     [5 ,6 ,7 ,8 ],\n",
    "     [9 ,0 ,11,12],\n",
    "     [13,14,15,16]]\n",
    "\n",
    "zero_mat(m)"
   ]
  },
  {
   "cell_type": "markdown",
   "metadata": {},
   "source": [
    "### 1.9 String rotation"
   ]
  },
  {
   "cell_type": "code",
   "execution_count": 11,
   "metadata": {},
   "outputs": [],
   "source": [
    "def isSubstring(s1,s2):\n",
    "    if s1 in s2:\n",
    "        return True\n",
    "    elif s2 in s1:\n",
    "        return True\n",
    "    else:\n",
    "        return False\n",
    "    \n",
    "def isRotation(s1,s2):\n",
    "    temp = s2+s2\n",
    "    return isSubstring(s1, temp)"
   ]
  },
  {
   "cell_type": "code",
   "execution_count": 12,
   "metadata": {},
   "outputs": [
    {
     "data": {
      "text/plain": [
       "True"
      ]
     },
     "execution_count": 12,
     "metadata": {},
     "output_type": "execute_result"
    }
   ],
   "source": [
    "isRotation('saisandeep','sandeepsai')"
   ]
  },
  {
   "cell_type": "code",
   "execution_count": 13,
   "metadata": {},
   "outputs": [
    {
     "name": "stdout",
     "output_type": "stream",
     "text": [
      "saisandeep\n"
     ]
    }
   ],
   "source": [
    "print 'sai'+'sandeep'"
   ]
  },
  {
   "cell_type": "code",
   "execution_count": null,
   "metadata": {
    "collapsed": true
   },
   "outputs": [],
   "source": []
  }
 ],
 "metadata": {
  "kernelspec": {
   "display_name": "Python 2",
   "language": "python",
   "name": "python2"
  },
  "language_info": {
   "codemirror_mode": {
    "name": "ipython",
    "version": 2
   },
   "file_extension": ".py",
   "mimetype": "text/x-python",
   "name": "python",
   "nbconvert_exporter": "python",
   "pygments_lexer": "ipython2",
   "version": "2.7.14"
  }
 },
 "nbformat": 4,
 "nbformat_minor": 2
}
